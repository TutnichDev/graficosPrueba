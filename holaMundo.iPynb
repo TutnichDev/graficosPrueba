{
 "cells": [
  {
   "cell_type": "markdown",
   "metadata": {},
   "source": [
    "# Probemos Jupyter Notebooks"
   ]
  },
  {
   "cell_type": "markdown",
   "metadata": {},
   "source": [
    "Importo csv a Py usando la libreria panda:\n"
   ]
  },
  {
   "cell_type": "code",
   "execution_count": 35,
   "metadata": {},
   "outputs": [],
   "source": [
    "import pandas as pd\n",
    "import altair as alt\n",
    "\n",
    "ruta_archivo = \"C:/Documentos/n76359/Maestria/Python/pruebaGraf/dataset.csv\"\n",
    "datos = pd.read_csv(ruta_archivo, sep=';')"
   ]
  },
  {
   "cell_type": "markdown",
   "metadata": {},
   "source": [
    "Reviso la base:"
   ]
  },
  {
   "cell_type": "code",
   "execution_count": 36,
   "metadata": {},
   "outputs": [
    {
     "name": "stdout",
     "output_type": "stream",
     "text": [
      "TipoOperacion\n",
      "<class 'str'>\n",
      "Comercial/Financiero\n",
      "<class 'str'>\n",
      "Detalle\n",
      "<class 'str'>\n",
      "Periodo\n",
      "<class 'str'>\n",
      "Monto\n",
      "<class 'str'>\n"
     ]
    }
   ],
   "source": [
    "for data in datos:\n",
    "    print(data)\n",
    "    print(type(data))"
   ]
  },
  {
   "cell_type": "markdown",
   "metadata": {},
   "source": [
    "Conviero columna Monto a número y creo base en millones de $:"
   ]
  },
  {
   "cell_type": "code",
   "execution_count": 37,
   "metadata": {},
   "outputs": [],
   "source": [
    "datos[\"Monto\"] = pd.to_numeric(datos[\"Monto\"], errors=\"coerce\")\n",
    "datos_en_miles = datos\n",
    "datos_en_miles[\"Monto\"] = datos_en_miles[\"Monto\"] / 1000000\n",
    "\n"
   ]
  },
  {
   "cell_type": "code",
   "execution_count": 51,
   "metadata": {},
   "outputs": [],
   "source": [
    "\n",
    "Monto_agrupado = datos_en_miles.groupby([\"Periodo\", \"TipoOperacion\"])[\"Monto\"].sum().reset_index()\n",
    "\n",
    "\n",
    "min_sum_Monto = Monto_agrupado[\"Monto\"].min()\n",
    "max_sum_Monto = Monto_agrupado[\"Monto\"].max()\n",
    "\n",
    "\n",
    "\n",
    "Grafico = alt.layer(\n",
    "    alt.Chart(\n",
    "        datos\n",
    "    ).mark_line(\n",
    "        interpolate=\"monotone\"    \n",
    "    ).encode(\n",
    "        \n",
    "        x=alt.X(\"Periodo:N\",\n",
    "                axis=alt.Axis(\n",
    "                    labelAngle=0,\n",
    "                    grid=True,\n",
    "                    gridColor=\"lightgray\",\n",
    "                    title=\"Periodo\")\n",
    "        ),\n",
    "        y=alt.Y(\"Monto:Q\", \n",
    "                aggregate=\"sum\",\n",
    "                axis=alt.Axis(\n",
    "                    title=\"Monto en millones de $\" , \n",
    "                    titlePadding=10,\n",
    "                    \n",
    "                    grid=True,\n",
    "                    gridColor=\"lightgray\",\n",
    "                    \n",
    "                    titleOpacity=0.70), \n",
    "                scale=alt.Scale(domain=[min_sum_Monto*0.99 , \n",
    "                                max_sum_Monto *1.01])\n",
    "        ),    \n",
    "        color=\"TipoOperacion\"),\n",
    "    # Puntos\n",
    "    alt.Chart(Monto_agrupado).mark_point(size=80).encode(\n",
    "        x=\"Periodo:N\",\n",
    "        y=alt.Y(\"Monto:Q\", aggregate=\"sum\"),\n",
    "        color=\"TipoOperacion\"\n",
    "    ).transform_filter(\n",
    "        f\"datum.Monto == {max_sum_Monto} || datum.Monto == {min_sum_Monto}\"  # Filtrar por máximos y mínimos\n",
    "    )\n",
    ").properties(\n",
    "    width=650,\n",
    ").configure(\n",
    "    background=\"lightyellow\" \n",
    ")\n",
    "\n",
    "\n"
   ]
  },
  {
   "cell_type": "code",
   "execution_count": 39,
   "metadata": {},
   "outputs": [
    {
     "data": {
      "text/html": [
       "\n",
       "<style>\n",
       "  #altair-viz-44633b78de7e46d88e38283143f7a687.vega-embed {\n",
       "    width: 100%;\n",
       "    display: flex;\n",
       "  }\n",
       "\n",
       "  #altair-viz-44633b78de7e46d88e38283143f7a687.vega-embed details,\n",
       "  #altair-viz-44633b78de7e46d88e38283143f7a687.vega-embed details summary {\n",
       "    position: relative;\n",
       "  }\n",
       "</style>\n",
       "<div id=\"altair-viz-44633b78de7e46d88e38283143f7a687\"></div>\n",
       "<script type=\"text/javascript\">\n",
       "  var VEGA_DEBUG = (typeof VEGA_DEBUG == \"undefined\") ? {} : VEGA_DEBUG;\n",
       "  (function(spec, embedOpt){\n",
       "    let outputDiv = document.currentScript.previousElementSibling;\n",
       "    if (outputDiv.id !== \"altair-viz-44633b78de7e46d88e38283143f7a687\") {\n",
       "      outputDiv = document.getElementById(\"altair-viz-44633b78de7e46d88e38283143f7a687\");\n",
       "    }\n",
       "\n",
       "    const paths = {\n",
       "      \"vega\": \"https://cdn.jsdelivr.net/npm/vega@5?noext\",\n",
       "      \"vega-lib\": \"https://cdn.jsdelivr.net/npm/vega-lib?noext\",\n",
       "      \"vega-lite\": \"https://cdn.jsdelivr.net/npm/vega-lite@5.20.1?noext\",\n",
       "      \"vega-embed\": \"https://cdn.jsdelivr.net/npm/vega-embed@6?noext\",\n",
       "    };\n",
       "\n",
       "    function maybeLoadScript(lib, version) {\n",
       "      var key = `${lib.replace(\"-\", \"\")}_version`;\n",
       "      return (VEGA_DEBUG[key] == version) ?\n",
       "        Promise.resolve(paths[lib]) :\n",
       "        new Promise(function(resolve, reject) {\n",
       "          var s = document.createElement('script');\n",
       "          document.getElementsByTagName(\"head\")[0].appendChild(s);\n",
       "          s.async = true;\n",
       "          s.onload = () => {\n",
       "            VEGA_DEBUG[key] = version;\n",
       "            return resolve(paths[lib]);\n",
       "          };\n",
       "          s.onerror = () => reject(`Error loading script: ${paths[lib]}`);\n",
       "          s.src = paths[lib];\n",
       "        });\n",
       "    }\n",
       "\n",
       "    function showError(err) {\n",
       "      outputDiv.innerHTML = `<div class=\"error\" style=\"color:red;\">${err}</div>`;\n",
       "      throw err;\n",
       "    }\n",
       "\n",
       "    function displayChart(vegaEmbed) {\n",
       "      vegaEmbed(outputDiv, spec, embedOpt)\n",
       "        .catch(err => showError(`Javascript Error: ${err.message}<br>This usually means there's a typo in your chart specification. See the javascript console for the full traceback.`));\n",
       "    }\n",
       "\n",
       "    if(typeof define === \"function\" && define.amd) {\n",
       "      requirejs.config({paths});\n",
       "      let deps = [\"vega-embed\"];\n",
       "      require(deps, displayChart, err => showError(`Error loading script: ${err.message}`));\n",
       "    } else {\n",
       "      maybeLoadScript(\"vega\", \"5\")\n",
       "        .then(() => maybeLoadScript(\"vega-lite\", \"5.20.1\"))\n",
       "        .then(() => maybeLoadScript(\"vega-embed\", \"6\"))\n",
       "        .catch(showError)\n",
       "        .then(() => displayChart(vegaEmbed));\n",
       "    }\n",
       "  })({\"config\": {\"view\": {\"continuousWidth\": 300, \"continuousHeight\": 300, \"fill\": \"lightwhite\"}, \"background\": \"lightyellow\"}, \"layer\": [{\"data\": {\"name\": \"data-08331b99f1751fe490c6fcd36a061f86\"}, \"mark\": {\"type\": \"line\", \"interpolate\": \"monotone\"}, \"encoding\": {\"color\": {\"field\": \"TipoOperacion\", \"type\": \"nominal\"}, \"x\": {\"axis\": {\"grid\": true, \"gridColor\": \"lightgray\", \"labelAngle\": 0, \"title\": \"Periodo\"}, \"field\": \"Periodo\", \"type\": \"nominal\"}, \"y\": {\"aggregate\": \"sum\", \"axis\": {\"grid\": true, \"gridColor\": \"lightgray\", \"title\": \"Monto en millones de $\", \"titleOpacity\": 0.7, \"titlePadding\": 10}, \"field\": \"Monto\", \"scale\": {\"domain\": [17554.91104125, 27618.95664024]}, \"type\": \"quantitative\"}}}, {\"data\": {\"name\": \"data-8770b7357754279e7b94764ccb8932a1\"}, \"mark\": {\"type\": \"point\", \"size\": 80}, \"encoding\": {\"color\": {\"field\": \"TipoOperacion\", \"type\": \"nominal\"}, \"x\": {\"field\": \"Periodo\", \"type\": \"nominal\"}, \"y\": {\"aggregate\": \"sum\", \"field\": \"Monto\", \"type\": \"quantitative\"}}, \"transform\": [{\"filter\": \"datum.Monto == 27345.501624 || datum.Monto == 17732.233375\"}]}], \"width\": 650, \"$schema\": \"https://vega.github.io/schema/vega-lite/v5.20.1.json\", \"datasets\": {\"data-08331b99f1751fe490c6fcd36a061f86\": [{\"TipoOperacion\": \"Ingresos\", \"Comercial/Financiero\": \"Comerciales\", \"Detalle\": \"Comisi\\u00f3n por Servicio Anual (Renovaci\\u00f3n)\", \"Periodo\": 202404, \"Monto\": null}, {\"TipoOperacion\": \"Ingresos\", \"Comercial/Financiero\": \"Comerciales\", \"Detalle\": \"Comisi\\u00f3n por Servicio Anual (Renovaci\\u00f3n)\", \"Periodo\": 202405, \"Monto\": null}, {\"TipoOperacion\": \"Ingresos\", \"Comercial/Financiero\": \"Comerciales\", \"Detalle\": \"Comisi\\u00f3n por Servicio Anual (Renovaci\\u00f3n)\", \"Periodo\": 202406, \"Monto\": 164.485753}, {\"TipoOperacion\": \"Ingresos\", \"Comercial/Financiero\": \"Comerciales\", \"Detalle\": \"Comisi\\u00f3n por Servicio Anual (Renovaci\\u00f3n)\", \"Periodo\": 202407, \"Monto\": null}, {\"TipoOperacion\": \"Ingresos\", \"Comercial/Financiero\": \"Comerciales\", \"Detalle\": \"Comisi\\u00f3n por Servicio Anual (Renovaci\\u00f3n)\", \"Periodo\": 202408, \"Monto\": null}, {\"TipoOperacion\": \"Ingresos\", \"Comercial/Financiero\": \"Comerciales\", \"Detalle\": \"Comisi\\u00f3n por Servicio Anual (Renovaci\\u00f3n)\", \"Periodo\": 202409, \"Monto\": null}, {\"TipoOperacion\": \"Ingresos\", \"Comercial/Financiero\": \"Comerciales\", \"Detalle\": \"Arancel Otorgante\", \"Periodo\": 202404, \"Monto\": 3114.81116}, {\"TipoOperacion\": \"Ingresos\", \"Comercial/Financiero\": \"Comerciales\", \"Detalle\": \"Arancel Otorgante\", \"Periodo\": 202405, \"Monto\": 3517.717797}, {\"TipoOperacion\": \"Ingresos\", \"Comercial/Financiero\": \"Comerciales\", \"Detalle\": \"Arancel Otorgante\", \"Periodo\": 202406, \"Monto\": 2916.168947}, {\"TipoOperacion\": \"Ingresos\", \"Comercial/Financiero\": \"Comerciales\", \"Detalle\": \"Arancel Otorgante\", \"Periodo\": 202407, \"Monto\": 4726.904934}, {\"TipoOperacion\": \"Ingresos\", \"Comercial/Financiero\": \"Comerciales\", \"Detalle\": \"Arancel Otorgante\", \"Periodo\": 202408, \"Monto\": 4375.848105}, {\"TipoOperacion\": \"Ingresos\", \"Comercial/Financiero\": \"Comerciales\", \"Detalle\": \"Arancel Otorgante\", \"Periodo\": 202409, \"Monto\": 4678.148877}, {\"TipoOperacion\": \"Ingresos\", \"Comercial/Financiero\": \"Comerciales\", \"Detalle\": \"Comisi\\u00f3n por Administraci\\u00f3n de Cuenta\", \"Periodo\": 202404, \"Monto\": null}, {\"TipoOperacion\": \"Ingresos\", \"Comercial/Financiero\": \"Comerciales\", \"Detalle\": \"Comisi\\u00f3n por Administraci\\u00f3n de Cuenta\", \"Periodo\": 202405, \"Monto\": null}, {\"TipoOperacion\": \"Ingresos\", \"Comercial/Financiero\": \"Comerciales\", \"Detalle\": \"Comisi\\u00f3n por Administraci\\u00f3n de Cuenta\", \"Periodo\": 202406, \"Monto\": null}, {\"TipoOperacion\": \"Ingresos\", \"Comercial/Financiero\": \"Comerciales\", \"Detalle\": \"Comisi\\u00f3n por Administraci\\u00f3n de Cuenta\", \"Periodo\": 202407, \"Monto\": null}, {\"TipoOperacion\": \"Ingresos\", \"Comercial/Financiero\": \"Comerciales\", \"Detalle\": \"Comisi\\u00f3n por Administraci\\u00f3n de Cuenta\", \"Periodo\": 202408, \"Monto\": null}, {\"TipoOperacion\": \"Ingresos\", \"Comercial/Financiero\": \"Comerciales\", \"Detalle\": \"Comisi\\u00f3n por Administraci\\u00f3n de Cuenta\", \"Periodo\": 202409, \"Monto\": null}, {\"TipoOperacion\": \"Ingresos\", \"Comercial/Financiero\": \"Comerciales\", \"Detalle\": \"Ingreso Paquete\", \"Periodo\": 202404, \"Monto\": 2711.130883}, {\"TipoOperacion\": \"Ingresos\", \"Comercial/Financiero\": \"Comerciales\", \"Detalle\": \"Ingreso Paquete\", \"Periodo\": 202405, \"Monto\": 2699.7528}, {\"TipoOperacion\": \"Ingresos\", \"Comercial/Financiero\": \"Comerciales\", \"Detalle\": \"Ingreso Paquete\", \"Periodo\": 202406, \"Monto\": 3371.742207}, {\"TipoOperacion\": \"Ingresos\", \"Comercial/Financiero\": \"Comerciales\", \"Detalle\": \"Ingreso Paquete\", \"Periodo\": 202407, \"Monto\": 3418.533595}, {\"TipoOperacion\": \"Ingresos\", \"Comercial/Financiero\": \"Comerciales\", \"Detalle\": \"Ingreso Paquete\", \"Periodo\": 202408, \"Monto\": 3647.834392}, {\"TipoOperacion\": \"Ingresos\", \"Comercial/Financiero\": \"Comerciales\", \"Detalle\": \"Ingreso Paquete\", \"Periodo\": 202409, \"Monto\": 3602.025026}, {\"TipoOperacion\": \"Ingresos\", \"Comercial/Financiero\": \"Comerciales\", \"Detalle\": \"Cgo Servicios Varios\", \"Periodo\": 202404, \"Monto\": null}, {\"TipoOperacion\": \"Ingresos\", \"Comercial/Financiero\": \"Comerciales\", \"Detalle\": \"Cgo Servicios Varios\", \"Periodo\": 202405, \"Monto\": null}, {\"TipoOperacion\": \"Ingresos\", \"Comercial/Financiero\": \"Comerciales\", \"Detalle\": \"Cgo Servicios Varios\", \"Periodo\": 202406, \"Monto\": null}, {\"TipoOperacion\": \"Ingresos\", \"Comercial/Financiero\": \"Comerciales\", \"Detalle\": \"Cgo Servicios Varios\", \"Periodo\": 202407, \"Monto\": null}, {\"TipoOperacion\": \"Ingresos\", \"Comercial/Financiero\": \"Comerciales\", \"Detalle\": \"Cgo Servicios Varios\", \"Periodo\": 202408, \"Monto\": null}, {\"TipoOperacion\": \"Ingresos\", \"Comercial/Financiero\": \"Comerciales\", \"Detalle\": \"Cgo Servicios Varios\", \"Periodo\": 202409, \"Monto\": null}, {\"TipoOperacion\": \"Ingresos\", \"Comercial/Financiero\": \"Comerciales\", \"Detalle\": \"Plan Incentivos Mastercard\", \"Periodo\": 202404, \"Monto\": null}, {\"TipoOperacion\": \"Ingresos\", \"Comercial/Financiero\": \"Comerciales\", \"Detalle\": \"Plan Incentivos Mastercard\", \"Periodo\": 202405, \"Monto\": null}, {\"TipoOperacion\": \"Ingresos\", \"Comercial/Financiero\": \"Comerciales\", \"Detalle\": \"Plan Incentivos Mastercard\", \"Periodo\": 202406, \"Monto\": null}, {\"TipoOperacion\": \"Ingresos\", \"Comercial/Financiero\": \"Comerciales\", \"Detalle\": \"Plan Incentivos Mastercard\", \"Periodo\": 202407, \"Monto\": 1080.840893}, {\"TipoOperacion\": \"Ingresos\", \"Comercial/Financiero\": \"Comerciales\", \"Detalle\": \"Plan Incentivos Mastercard\", \"Periodo\": 202408, \"Monto\": 1080.840893}, {\"TipoOperacion\": \"Ingresos\", \"Comercial/Financiero\": \"Comerciales\", \"Detalle\": \"Plan Incentivos Mastercard\", \"Periodo\": 202409, \"Monto\": 4001.853434}, {\"TipoOperacion\": \"Ingresos\", \"Comercial/Financiero\": \"Comerciales\", \"Detalle\": \"Comisi\\u00f3n Transf Comercios con ctas en otros Bcos\", \"Periodo\": 202404, \"Monto\": 0.0}, {\"TipoOperacion\": \"Ingresos\", \"Comercial/Financiero\": \"Comerciales\", \"Detalle\": \"Comisi\\u00f3n Transf Comercios con ctas en otros Bcos\", \"Periodo\": 202405, \"Monto\": 0.0}, {\"TipoOperacion\": \"Ingresos\", \"Comercial/Financiero\": \"Comerciales\", \"Detalle\": \"Comisi\\u00f3n Transf Comercios con ctas en otros Bcos\", \"Periodo\": 202406, \"Monto\": 0.0}, {\"TipoOperacion\": \"Ingresos\", \"Comercial/Financiero\": \"Comerciales\", \"Detalle\": \"Comisi\\u00f3n Transf Comercios con ctas en otros Bcos\", \"Periodo\": 202407, \"Monto\": 0.0}, {\"TipoOperacion\": \"Ingresos\", \"Comercial/Financiero\": \"Comerciales\", \"Detalle\": \"Comisi\\u00f3n Transf Comercios con ctas en otros Bcos\", \"Periodo\": 202408, \"Monto\": 0.0}, {\"TipoOperacion\": \"Ingresos\", \"Comercial/Financiero\": \"Comerciales\", \"Detalle\": \"Comisi\\u00f3n Transf Comercios con ctas en otros Bcos\", \"Periodo\": 202409, \"Monto\": 0.0}, {\"TipoOperacion\": \"Ingresos\", \"Comercial/Financiero\": \"Financieros\", \"Detalle\": \"Intereses por Financiaci\\u00f3n\", \"Periodo\": 202404, \"Monto\": 8118.299854}, {\"TipoOperacion\": \"Ingresos\", \"Comercial/Financiero\": \"Financieros\", \"Detalle\": \"Intereses por Financiaci\\u00f3n\", \"Periodo\": 202405, \"Monto\": 6841.766718}, {\"TipoOperacion\": \"Ingresos\", \"Comercial/Financiero\": \"Financieros\", \"Detalle\": \"Intereses por Financiaci\\u00f3n\", \"Periodo\": 202406, \"Monto\": 5136.233315}, {\"TipoOperacion\": \"Ingresos\", \"Comercial/Financiero\": \"Financieros\", \"Detalle\": \"Intereses por Financiaci\\u00f3n\", \"Periodo\": 202407, \"Monto\": 4946.299833}, {\"TipoOperacion\": \"Ingresos\", \"Comercial/Financiero\": \"Financieros\", \"Detalle\": \"Intereses por Financiaci\\u00f3n\", \"Periodo\": 202408, \"Monto\": 4796.093806}, {\"TipoOperacion\": \"Ingresos\", \"Comercial/Financiero\": \"Financieros\", \"Detalle\": \"Intereses por Financiaci\\u00f3n\", \"Periodo\": 202409, \"Monto\": 5223.929264}, {\"TipoOperacion\": \"Ingresos\", \"Comercial/Financiero\": \"Financieros\", \"Detalle\": \"Intereses por Adelantos\", \"Periodo\": 202404, \"Monto\": 0.0}, {\"TipoOperacion\": \"Ingresos\", \"Comercial/Financiero\": \"Financieros\", \"Detalle\": \"Intereses por Adelantos\", \"Periodo\": 202405, \"Monto\": 0.0}, {\"TipoOperacion\": \"Ingresos\", \"Comercial/Financiero\": \"Financieros\", \"Detalle\": \"Intereses por Adelantos\", \"Periodo\": 202406, \"Monto\": 0.0}, {\"TipoOperacion\": \"Ingresos\", \"Comercial/Financiero\": \"Financieros\", \"Detalle\": \"Intereses por Adelantos\", \"Periodo\": 202407, \"Monto\": 0.0}, {\"TipoOperacion\": \"Ingresos\", \"Comercial/Financiero\": \"Financieros\", \"Detalle\": \"Intereses por Adelantos\", \"Periodo\": 202408, \"Monto\": 0.0}, {\"TipoOperacion\": \"Ingresos\", \"Comercial/Financiero\": \"Financieros\", \"Detalle\": \"Intereses por Adelantos\", \"Periodo\": 202409, \"Monto\": 0.0}, {\"TipoOperacion\": \"Ingresos\", \"Comercial/Financiero\": \"Financieros\", \"Detalle\": \"Interses Punitorios\", \"Periodo\": 202404, \"Monto\": null}, {\"TipoOperacion\": \"Ingresos\", \"Comercial/Financiero\": \"Financieros\", \"Detalle\": \"Interses Punitorios\", \"Periodo\": 202405, \"Monto\": null}, {\"TipoOperacion\": \"Ingresos\", \"Comercial/Financiero\": \"Financieros\", \"Detalle\": \"Interses Punitorios\", \"Periodo\": 202406, \"Monto\": null}, {\"TipoOperacion\": \"Ingresos\", \"Comercial/Financiero\": \"Financieros\", \"Detalle\": \"Interses Punitorios\", \"Periodo\": 202407, \"Monto\": 169.010376}, {\"TipoOperacion\": \"Ingresos\", \"Comercial/Financiero\": \"Financieros\", \"Detalle\": \"Interses Punitorios\", \"Periodo\": 202408, \"Monto\": null}, {\"TipoOperacion\": \"Ingresos\", \"Comercial/Financiero\": \"Financieros\", \"Detalle\": \"Interses Punitorios\", \"Periodo\": 202409, \"Monto\": null}, {\"TipoOperacion\": \"Ingresos\", \"Comercial/Financiero\": \"Financieros\", \"Detalle\": \"Dto. por Pago Adelantado a Comercios \", \"Periodo\": 202404, \"Monto\": 7154.896851}, {\"TipoOperacion\": \"Ingresos\", \"Comercial/Financiero\": \"Financieros\", \"Detalle\": \"Dto. por Pago Adelantado a Comercios \", \"Periodo\": 202405, \"Monto\": 7695.956127}, {\"TipoOperacion\": \"Ingresos\", \"Comercial/Financiero\": \"Financieros\", \"Detalle\": \"Dto. por Pago Adelantado a Comercios \", \"Periodo\": 202406, \"Monto\": 6130.433727}, {\"TipoOperacion\": \"Ingresos\", \"Comercial/Financiero\": \"Financieros\", \"Detalle\": \"Dto. por Pago Adelantado a Comercios \", \"Periodo\": 202407, \"Monto\": 9309.210369}, {\"TipoOperacion\": \"Ingresos\", \"Comercial/Financiero\": \"Financieros\", \"Detalle\": \"Dto. por Pago Adelantado a Comercios \", \"Periodo\": 202408, \"Monto\": 8657.757408}, {\"TipoOperacion\": \"Ingresos\", \"Comercial/Financiero\": \"Financieros\", \"Detalle\": \"Dto. por Pago Adelantado a Comercios \", \"Periodo\": 202409, \"Monto\": 9197.324818}, {\"TipoOperacion\": \"Ingresos\", \"Comercial/Financiero\": \"Financieros\", \"Detalle\": \"Dif. De Cotiaci\\u00f3n OME\", \"Periodo\": 202404, \"Monto\": null}, {\"TipoOperacion\": \"Ingresos\", \"Comercial/Financiero\": \"Financieros\", \"Detalle\": \"Dif. De Cotiaci\\u00f3n OME\", \"Periodo\": 202405, \"Monto\": null}, {\"TipoOperacion\": \"Ingresos\", \"Comercial/Financiero\": \"Financieros\", \"Detalle\": \"Dif. De Cotiaci\\u00f3n OME\", \"Periodo\": 202406, \"Monto\": 13.169426}, {\"TipoOperacion\": \"Ingresos\", \"Comercial/Financiero\": \"Financieros\", \"Detalle\": \"Dif. De Cotiaci\\u00f3n OME\", \"Periodo\": 202407, \"Monto\": null}, {\"TipoOperacion\": \"Ingresos\", \"Comercial/Financiero\": \"Financieros\", \"Detalle\": \"Dif. De Cotiaci\\u00f3n OME\", \"Periodo\": 202408, \"Monto\": null}, {\"TipoOperacion\": \"Ingresos\", \"Comercial/Financiero\": \"Financieros\", \"Detalle\": \"Dif. De Cotiaci\\u00f3n OME\", \"Periodo\": 202409, \"Monto\": null}, {\"TipoOperacion\": \"Egresos\", \"Comercial/Financiero\": \"Comerciales\", \"Detalle\": \"Fact. Serv. Emp. Adm.\", \"Periodo\": 202404, \"Monto\": 3043.470717}, {\"TipoOperacion\": \"Egresos\", \"Comercial/Financiero\": \"Comerciales\", \"Detalle\": \"Fact. Serv. Emp. Adm.\", \"Periodo\": 202405, \"Monto\": 6206.00467}, {\"TipoOperacion\": \"Egresos\", \"Comercial/Financiero\": \"Comerciales\", \"Detalle\": \"Fact. Serv. Emp. Adm.\", \"Periodo\": 202406, \"Monto\": 3406.261765}, {\"TipoOperacion\": \"Egresos\", \"Comercial/Financiero\": \"Comerciales\", \"Detalle\": \"Fact. Serv. Emp. Adm.\", \"Periodo\": 202407, \"Monto\": 3046.097307}, {\"TipoOperacion\": \"Egresos\", \"Comercial/Financiero\": \"Comerciales\", \"Detalle\": \"Fact. Serv. Emp. Adm.\", \"Periodo\": 202408, \"Monto\": 9482.384493}, {\"TipoOperacion\": \"Egresos\", \"Comercial/Financiero\": \"Comerciales\", \"Detalle\": \"Fact. Serv. Emp. Adm.\", \"Periodo\": 202409, \"Monto\": 3722.367765}, {\"TipoOperacion\": \"Egresos\", \"Comercial/Financiero\": \"Comerciales\", \"Detalle\": \"Comisiones Fza de Venta Naci\\u00f3n Servicios\", \"Periodo\": 202404, \"Monto\": 0.0}, {\"TipoOperacion\": \"Egresos\", \"Comercial/Financiero\": \"Comerciales\", \"Detalle\": \"Comisiones Fza de Venta Naci\\u00f3n Servicios\", \"Periodo\": 202405, \"Monto\": 0.0}, {\"TipoOperacion\": \"Egresos\", \"Comercial/Financiero\": \"Comerciales\", \"Detalle\": \"Comisiones Fza de Venta Naci\\u00f3n Servicios\", \"Periodo\": 202406, \"Monto\": 0.0}, {\"TipoOperacion\": \"Egresos\", \"Comercial/Financiero\": \"Comerciales\", \"Detalle\": \"Comisiones Fza de Venta Naci\\u00f3n Servicios\", \"Periodo\": 202407, \"Monto\": 0.0}, {\"TipoOperacion\": \"Egresos\", \"Comercial/Financiero\": \"Comerciales\", \"Detalle\": \"Comisiones Fza de Venta Naci\\u00f3n Servicios\", \"Periodo\": 202408, \"Monto\": 0.0}, {\"TipoOperacion\": \"Egresos\", \"Comercial/Financiero\": \"Comerciales\", \"Detalle\": \"Comisiones Fza de Venta Naci\\u00f3n Servicios\", \"Periodo\": 202409, \"Monto\": 0.0}, {\"TipoOperacion\": \"Egresos\", \"Comercial/Financiero\": \"Comerciales\", \"Detalle\": \"Costo Operativo\", \"Periodo\": 202404, \"Monto\": 1939.670745}, {\"TipoOperacion\": \"Egresos\", \"Comercial/Financiero\": \"Comerciales\", \"Detalle\": \"Costo Operativo\", \"Periodo\": 202405, \"Monto\": 2086.67709}, {\"TipoOperacion\": \"Egresos\", \"Comercial/Financiero\": \"Comerciales\", \"Detalle\": \"Costo Operativo\", \"Periodo\": 202406, \"Monto\": 2213.315641}, {\"TipoOperacion\": \"Egresos\", \"Comercial/Financiero\": \"Comerciales\", \"Detalle\": \"Costo Operativo\", \"Periodo\": 202407, \"Monto\": 2213.468058}, {\"TipoOperacion\": \"Egresos\", \"Comercial/Financiero\": \"Comerciales\", \"Detalle\": \"Costo Operativo\", \"Periodo\": 202408, \"Monto\": 2309.735118}, {\"TipoOperacion\": \"Egresos\", \"Comercial/Financiero\": \"Comerciales\", \"Detalle\": \"Costo Operativo\", \"Periodo\": 202409, \"Monto\": 2424.090455}, {\"TipoOperacion\": \"Egresos\", \"Comercial/Financiero\": \"Comerciales\", \"Detalle\": \"Unidad Medios de Pagos Zonales\", \"Periodo\": 202404, \"Monto\": null}, {\"TipoOperacion\": \"Egresos\", \"Comercial/Financiero\": \"Comerciales\", \"Detalle\": \"Unidad Medios de Pagos Zonales\", \"Periodo\": 202405, \"Monto\": null}, {\"TipoOperacion\": \"Egresos\", \"Comercial/Financiero\": \"Comerciales\", \"Detalle\": \"Unidad Medios de Pagos Zonales\", \"Periodo\": 202406, \"Monto\": null}, {\"TipoOperacion\": \"Egresos\", \"Comercial/Financiero\": \"Comerciales\", \"Detalle\": \"Unidad Medios de Pagos Zonales\", \"Periodo\": 202407, \"Monto\": null}, {\"TipoOperacion\": \"Egresos\", \"Comercial/Financiero\": \"Comerciales\", \"Detalle\": \"Unidad Medios de Pagos Zonales\", \"Periodo\": 202408, \"Monto\": null}, {\"TipoOperacion\": \"Egresos\", \"Comercial/Financiero\": \"Comerciales\", \"Detalle\": \"Unidad Medios de Pagos Zonales\", \"Periodo\": 202409, \"Monto\": null}, {\"TipoOperacion\": \"Egresos\", \"Comercial/Financiero\": \"Comerciales\", \"Detalle\": \"Gastos de Distribuci\\u00f3n\", \"Periodo\": 202404, \"Monto\": null}, {\"TipoOperacion\": \"Egresos\", \"Comercial/Financiero\": \"Comerciales\", \"Detalle\": \"Gastos de Distribuci\\u00f3n\", \"Periodo\": 202405, \"Monto\": null}, {\"TipoOperacion\": \"Egresos\", \"Comercial/Financiero\": \"Comerciales\", \"Detalle\": \"Gastos de Distribuci\\u00f3n\", \"Periodo\": 202406, \"Monto\": null}, {\"TipoOperacion\": \"Egresos\", \"Comercial/Financiero\": \"Comerciales\", \"Detalle\": \"Gastos de Distribuci\\u00f3n\", \"Periodo\": 202407, \"Monto\": null}, {\"TipoOperacion\": \"Egresos\", \"Comercial/Financiero\": \"Comerciales\", \"Detalle\": \"Gastos de Distribuci\\u00f3n\", \"Periodo\": 202408, \"Monto\": null}, {\"TipoOperacion\": \"Egresos\", \"Comercial/Financiero\": \"Comerciales\", \"Detalle\": \"Gastos de Distribuci\\u00f3n\", \"Periodo\": 202409, \"Monto\": null}, {\"TipoOperacion\": \"Egresos\", \"Comercial/Financiero\": \"Comerciales\", \"Detalle\": \"Merchandising\", \"Periodo\": 202404, \"Monto\": 0.0}, {\"TipoOperacion\": \"Egresos\", \"Comercial/Financiero\": \"Comerciales\", \"Detalle\": \"Merchandising\", \"Periodo\": 202405, \"Monto\": 0.0}, {\"TipoOperacion\": \"Egresos\", \"Comercial/Financiero\": \"Comerciales\", \"Detalle\": \"Merchandising\", \"Periodo\": 202406, \"Monto\": 0.0}, {\"TipoOperacion\": \"Egresos\", \"Comercial/Financiero\": \"Comerciales\", \"Detalle\": \"Merchandising\", \"Periodo\": 202407, \"Monto\": 0.0}, {\"TipoOperacion\": \"Egresos\", \"Comercial/Financiero\": \"Comerciales\", \"Detalle\": \"Merchandising\", \"Periodo\": 202408, \"Monto\": 0.0}, {\"TipoOperacion\": \"Egresos\", \"Comercial/Financiero\": \"Comerciales\", \"Detalle\": \"Merchandising\", \"Periodo\": 202409, \"Monto\": 0.0}, {\"TipoOperacion\": \"Egresos\", \"Comercial/Financiero\": \"Comerciales\", \"Detalle\": \"Programa de Fidelizacion\", \"Periodo\": 202404, \"Monto\": null}, {\"TipoOperacion\": \"Egresos\", \"Comercial/Financiero\": \"Comerciales\", \"Detalle\": \"Programa de Fidelizacion\", \"Periodo\": 202405, \"Monto\": null}, {\"TipoOperacion\": \"Egresos\", \"Comercial/Financiero\": \"Comerciales\", \"Detalle\": \"Programa de Fidelizacion\", \"Periodo\": 202406, \"Monto\": null}, {\"TipoOperacion\": \"Egresos\", \"Comercial/Financiero\": \"Comerciales\", \"Detalle\": \"Programa de Fidelizacion\", \"Periodo\": 202407, \"Monto\": null}, {\"TipoOperacion\": \"Egresos\", \"Comercial/Financiero\": \"Comerciales\", \"Detalle\": \"Programa de Fidelizacion\", \"Periodo\": 202408, \"Monto\": null}, {\"TipoOperacion\": \"Egresos\", \"Comercial/Financiero\": \"Comerciales\", \"Detalle\": \"Programa de Fidelizacion\", \"Periodo\": 202409, \"Monto\": null}, {\"TipoOperacion\": \"Egresos\", \"Comercial/Financiero\": \"Comerciales\", \"Detalle\": \"AAP\", \"Periodo\": 202404, \"Monto\": 1044.303186}, {\"TipoOperacion\": \"Egresos\", \"Comercial/Financiero\": \"Comerciales\", \"Detalle\": \"AAP\", \"Periodo\": 202405, \"Monto\": 1230.066792}, {\"TipoOperacion\": \"Egresos\", \"Comercial/Financiero\": \"Comerciales\", \"Detalle\": \"AAP\", \"Periodo\": 202406, \"Monto\": 1166.083936}, {\"TipoOperacion\": \"Egresos\", \"Comercial/Financiero\": \"Comerciales\", \"Detalle\": \"AAP\", \"Periodo\": 202407, \"Monto\": 1234.977353}, {\"TipoOperacion\": \"Egresos\", \"Comercial/Financiero\": \"Comerciales\", \"Detalle\": \"AAP\", \"Periodo\": 202408, \"Monto\": 1582.042251}, {\"TipoOperacion\": \"Egresos\", \"Comercial/Financiero\": \"Comerciales\", \"Detalle\": \"AAP\", \"Periodo\": 202409, \"Monto\": 1425.058242}, {\"TipoOperacion\": \"Egresos\", \"Comercial/Financiero\": \"Comerciales\", \"Detalle\": \"Promo\", \"Periodo\": 202404, \"Monto\": 3205.865846}, {\"TipoOperacion\": \"Egresos\", \"Comercial/Financiero\": \"Comerciales\", \"Detalle\": \"Promo\", \"Periodo\": 202405, \"Monto\": 1648.524232}, {\"TipoOperacion\": \"Egresos\", \"Comercial/Financiero\": \"Comerciales\", \"Detalle\": \"Promo\", \"Periodo\": 202406, \"Monto\": 1766.37153}, {\"TipoOperacion\": \"Egresos\", \"Comercial/Financiero\": \"Comerciales\", \"Detalle\": \"Promo\", \"Periodo\": 202407, \"Monto\": 1380.183079}, {\"TipoOperacion\": \"Egresos\", \"Comercial/Financiero\": \"Comerciales\", \"Detalle\": \"Promo\", \"Periodo\": 202408, \"Monto\": 1903.870776}, {\"TipoOperacion\": \"Egresos\", \"Comercial/Financiero\": \"Comerciales\", \"Detalle\": \"Promo\", \"Periodo\": 202409, \"Monto\": 3280.129337}, {\"TipoOperacion\": \"Egresos\", \"Comercial/Financiero\": \"Comerciales\", \"Detalle\": \"SD\", \"Periodo\": 202404, \"Monto\": 106.10277}, {\"TipoOperacion\": \"Egresos\", \"Comercial/Financiero\": \"Comerciales\", \"Detalle\": \"SD\", \"Periodo\": 202405, \"Monto\": 118.725086}, {\"TipoOperacion\": \"Egresos\", \"Comercial/Financiero\": \"Comerciales\", \"Detalle\": \"SD\", \"Periodo\": 202406, \"Monto\": null}, {\"TipoOperacion\": \"Egresos\", \"Comercial/Financiero\": \"Comerciales\", \"Detalle\": \"SD\", \"Periodo\": 202407, \"Monto\": 162.237459}, {\"TipoOperacion\": \"Egresos\", \"Comercial/Financiero\": \"Comerciales\", \"Detalle\": \"SD\", \"Periodo\": 202408, \"Monto\": 182.91362}, {\"TipoOperacion\": \"Egresos\", \"Comercial/Financiero\": \"Comerciales\", \"Detalle\": \"SD\", \"Periodo\": 202409, \"Monto\": null}, {\"TipoOperacion\": \"Egresos\", \"Comercial/Financiero\": \"Comerciales\", \"Detalle\": \"Fraude\", \"Periodo\": 202404, \"Monto\": null}, {\"TipoOperacion\": \"Egresos\", \"Comercial/Financiero\": \"Comerciales\", \"Detalle\": \"Fraude\", \"Periodo\": 202405, \"Monto\": null}, {\"TipoOperacion\": \"Egresos\", \"Comercial/Financiero\": \"Comerciales\", \"Detalle\": \"Fraude\", \"Periodo\": 202406, \"Monto\": null}, {\"TipoOperacion\": \"Egresos\", \"Comercial/Financiero\": \"Comerciales\", \"Detalle\": \"Fraude\", \"Periodo\": 202407, \"Monto\": null}, {\"TipoOperacion\": \"Egresos\", \"Comercial/Financiero\": \"Comerciales\", \"Detalle\": \"Fraude\", \"Periodo\": 202408, \"Monto\": null}, {\"TipoOperacion\": \"Egresos\", \"Comercial/Financiero\": \"Comerciales\", \"Detalle\": \"Fraude\", \"Periodo\": 202409, \"Monto\": null}, {\"TipoOperacion\": \"Egresos\", \"Comercial/Financiero\": \"Financieros\", \"Detalle\": \"Costo Financiero de compras (mes)\", \"Periodo\": 202404, \"Monto\": 6376.727947}, {\"TipoOperacion\": \"Egresos\", \"Comercial/Financiero\": \"Financieros\", \"Detalle\": \"Costo Financiero de compras (mes)\", \"Periodo\": 202405, \"Monto\": 5296.859133}, {\"TipoOperacion\": \"Egresos\", \"Comercial/Financiero\": \"Financieros\", \"Detalle\": \"Costo Financiero de compras (mes)\", \"Periodo\": 202406, \"Monto\": 4318.292518}, {\"TipoOperacion\": \"Egresos\", \"Comercial/Financiero\": \"Financieros\", \"Detalle\": \"Costo Financiero de compras (mes)\", \"Periodo\": 202407, \"Monto\": 4384.724615}, {\"TipoOperacion\": \"Egresos\", \"Comercial/Financiero\": \"Financieros\", \"Detalle\": \"Costo Financiero de compras (mes)\", \"Periodo\": 202408, \"Monto\": 4224.242884}, {\"TipoOperacion\": \"Egresos\", \"Comercial/Financiero\": \"Financieros\", \"Detalle\": \"Costo Financiero de compras (mes)\", \"Periodo\": 202409, \"Monto\": 4883.976442}, {\"TipoOperacion\": \"Egresos\", \"Comercial/Financiero\": \"Financieros\", \"Detalle\": \"Costo Financiero (sobre saldo financiado)\", \"Periodo\": 202404, \"Monto\": 2231.896722}, {\"TipoOperacion\": \"Egresos\", \"Comercial/Financiero\": \"Financieros\", \"Detalle\": \"Costo Financiero (sobre saldo financiado)\", \"Periodo\": 202405, \"Monto\": 1957.259458}, {\"TipoOperacion\": \"Egresos\", \"Comercial/Financiero\": \"Financieros\", \"Detalle\": \"Costo Financiero (sobre saldo financiado)\", \"Periodo\": 202406, \"Monto\": 1524.851581}, {\"TipoOperacion\": \"Egresos\", \"Comercial/Financiero\": \"Financieros\", \"Detalle\": \"Costo Financiero (sobre saldo financiado)\", \"Periodo\": 202407, \"Monto\": 1224.151464}, {\"TipoOperacion\": \"Egresos\", \"Comercial/Financiero\": \"Financieros\", \"Detalle\": \"Costo Financiero (sobre saldo financiado)\", \"Periodo\": 202408, \"Monto\": 1607.065321}, {\"TipoOperacion\": \"Egresos\", \"Comercial/Financiero\": \"Financieros\", \"Detalle\": \"Costo Financiero (sobre saldo financiado)\", \"Periodo\": 202409, \"Monto\": 1557.243704}, {\"TipoOperacion\": \"Egresos\", \"Comercial/Financiero\": \"Financieros\", \"Detalle\": \"Costo Financiero / cuotas pendientes\", \"Periodo\": 202404, \"Monto\": 5899.474078}, {\"TipoOperacion\": \"Egresos\", \"Comercial/Financiero\": \"Financieros\", \"Detalle\": \"Costo Financiero / cuotas pendientes\", \"Periodo\": 202405, \"Monto\": 5197.671289}, {\"TipoOperacion\": \"Egresos\", \"Comercial/Financiero\": \"Financieros\", \"Detalle\": \"Costo Financiero / cuotas pendientes\", \"Periodo\": 202406, \"Monto\": 4029.990114}, {\"TipoOperacion\": \"Egresos\", \"Comercial/Financiero\": \"Financieros\", \"Detalle\": \"Costo Financiero / cuotas pendientes\", \"Periodo\": 202407, \"Monto\": 5697.18158}, {\"TipoOperacion\": \"Egresos\", \"Comercial/Financiero\": \"Financieros\", \"Detalle\": \"Costo Financiero / cuotas pendientes\", \"Periodo\": 202408, \"Monto\": 6053.247161}, {\"TipoOperacion\": \"Egresos\", \"Comercial/Financiero\": \"Financieros\", \"Detalle\": \"Costo Financiero / cuotas pendientes\", \"Periodo\": 202409, \"Monto\": 6816.804418}, {\"TipoOperacion\": \"Egresos\", \"Comercial/Financiero\": \"Financieros\", \"Detalle\": \"Efecto reduccion de encajes Programa Ahora 12\", \"Periodo\": 202404, \"Monto\": null}, {\"TipoOperacion\": \"Egresos\", \"Comercial/Financiero\": \"Financieros\", \"Detalle\": \"Efecto reduccion de encajes Programa Ahora 12\", \"Periodo\": 202405, \"Monto\": null}, {\"TipoOperacion\": \"Egresos\", \"Comercial/Financiero\": \"Financieros\", \"Detalle\": \"Efecto reduccion de encajes Programa Ahora 12\", \"Periodo\": 202406, \"Monto\": null}, {\"TipoOperacion\": \"Egresos\", \"Comercial/Financiero\": \"Financieros\", \"Detalle\": \"Efecto reduccion de encajes Programa Ahora 12\", \"Periodo\": 202407, \"Monto\": null}, {\"TipoOperacion\": \"Egresos\", \"Comercial/Financiero\": \"Financieros\", \"Detalle\": \"Efecto reduccion de encajes Programa Ahora 12\", \"Periodo\": 202408, \"Monto\": null}, {\"TipoOperacion\": \"Egresos\", \"Comercial/Financiero\": \"Financieros\", \"Detalle\": \"Efecto reduccion de encajes Programa Ahora 12\", \"Periodo\": 202409, \"Monto\": null}], \"data-8770b7357754279e7b94764ccb8932a1\": [{\"Periodo\": 202404, \"TipoOperacion\": \"Egresos\", \"Monto\": 23847.512011}, {\"Periodo\": 202404, \"TipoOperacion\": \"Ingresos\", \"Monto\": 21099.138748}, {\"Periodo\": 202405, \"TipoOperacion\": \"Egresos\", \"Monto\": 23741.78775}, {\"Periodo\": 202405, \"TipoOperacion\": \"Ingresos\", \"Monto\": 20755.193442}, {\"Periodo\": 202406, \"TipoOperacion\": \"Egresos\", \"Monto\": 18425.167085}, {\"Periodo\": 202406, \"TipoOperacion\": \"Ingresos\", \"Monto\": 17732.233375}, {\"Periodo\": 202407, \"TipoOperacion\": \"Egresos\", \"Monto\": 19343.020915}, {\"Periodo\": 202407, \"TipoOperacion\": \"Ingresos\", \"Monto\": 23650.800000000003}, {\"Periodo\": 202408, \"TipoOperacion\": \"Egresos\", \"Monto\": 27345.501624}, {\"Periodo\": 202408, \"TipoOperacion\": \"Ingresos\", \"Monto\": 22558.374604}, {\"Periodo\": 202409, \"TipoOperacion\": \"Egresos\", \"Monto\": 24109.670362999997}, {\"Periodo\": 202409, \"TipoOperacion\": \"Ingresos\", \"Monto\": 26703.281419}]}}, {\"mode\": \"vega-lite\"});\n",
       "</script>"
      ],
      "text/plain": [
       "alt.LayerChart(...)"
      ]
     },
     "metadata": {},
     "output_type": "display_data"
    }
   ],
   "source": [
    "Grafico.show()"
   ]
  },
  {
   "cell_type": "code",
   "execution_count": 74,
   "metadata": {},
   "outputs": [
    {
     "data": {
      "text/html": [
       "\n",
       "<style>\n",
       "  #altair-viz-990f6e193f5241dc8e8d172f07b3d4ad.vega-embed {\n",
       "    width: 100%;\n",
       "    display: flex;\n",
       "  }\n",
       "\n",
       "  #altair-viz-990f6e193f5241dc8e8d172f07b3d4ad.vega-embed details,\n",
       "  #altair-viz-990f6e193f5241dc8e8d172f07b3d4ad.vega-embed details summary {\n",
       "    position: relative;\n",
       "  }\n",
       "</style>\n",
       "<div id=\"altair-viz-990f6e193f5241dc8e8d172f07b3d4ad\"></div>\n",
       "<script type=\"text/javascript\">\n",
       "  var VEGA_DEBUG = (typeof VEGA_DEBUG == \"undefined\") ? {} : VEGA_DEBUG;\n",
       "  (function(spec, embedOpt){\n",
       "    let outputDiv = document.currentScript.previousElementSibling;\n",
       "    if (outputDiv.id !== \"altair-viz-990f6e193f5241dc8e8d172f07b3d4ad\") {\n",
       "      outputDiv = document.getElementById(\"altair-viz-990f6e193f5241dc8e8d172f07b3d4ad\");\n",
       "    }\n",
       "\n",
       "    const paths = {\n",
       "      \"vega\": \"https://cdn.jsdelivr.net/npm/vega@5?noext\",\n",
       "      \"vega-lib\": \"https://cdn.jsdelivr.net/npm/vega-lib?noext\",\n",
       "      \"vega-lite\": \"https://cdn.jsdelivr.net/npm/vega-lite@5.20.1?noext\",\n",
       "      \"vega-embed\": \"https://cdn.jsdelivr.net/npm/vega-embed@6?noext\",\n",
       "    };\n",
       "\n",
       "    function maybeLoadScript(lib, version) {\n",
       "      var key = `${lib.replace(\"-\", \"\")}_version`;\n",
       "      return (VEGA_DEBUG[key] == version) ?\n",
       "        Promise.resolve(paths[lib]) :\n",
       "        new Promise(function(resolve, reject) {\n",
       "          var s = document.createElement('script');\n",
       "          document.getElementsByTagName(\"head\")[0].appendChild(s);\n",
       "          s.async = true;\n",
       "          s.onload = () => {\n",
       "            VEGA_DEBUG[key] = version;\n",
       "            return resolve(paths[lib]);\n",
       "          };\n",
       "          s.onerror = () => reject(`Error loading script: ${paths[lib]}`);\n",
       "          s.src = paths[lib];\n",
       "        });\n",
       "    }\n",
       "\n",
       "    function showError(err) {\n",
       "      outputDiv.innerHTML = `<div class=\"error\" style=\"color:red;\">${err}</div>`;\n",
       "      throw err;\n",
       "    }\n",
       "\n",
       "    function displayChart(vegaEmbed) {\n",
       "      vegaEmbed(outputDiv, spec, embedOpt)\n",
       "        .catch(err => showError(`Javascript Error: ${err.message}<br>This usually means there's a typo in your chart specification. See the javascript console for the full traceback.`));\n",
       "    }\n",
       "\n",
       "    if(typeof define === \"function\" && define.amd) {\n",
       "      requirejs.config({paths});\n",
       "      let deps = [\"vega-embed\"];\n",
       "      require(deps, displayChart, err => showError(`Error loading script: ${err.message}`));\n",
       "    } else {\n",
       "      maybeLoadScript(\"vega\", \"5\")\n",
       "        .then(() => maybeLoadScript(\"vega-lite\", \"5.20.1\"))\n",
       "        .then(() => maybeLoadScript(\"vega-embed\", \"6\"))\n",
       "        .catch(showError)\n",
       "        .then(() => displayChart(vegaEmbed));\n",
       "    }\n",
       "  })({\"config\": {\"view\": {\"continuousWidth\": 300, \"continuousHeight\": 300}, \"background\": \"lightyellow\"}, \"data\": {\"name\": \"data-08331b99f1751fe490c6fcd36a061f86\"}, \"mark\": {\"type\": \"bar\"}, \"encoding\": {\"color\": {\"field\": \"Periodo\", \"legend\": {\"title\": \"Selecciona Periodo\"}, \"type\": \"nominal\"}, \"opacity\": {\"condition\": {\"param\": \"param_31\", \"value\": 1}, \"value\": 0.2}, \"x\": {\"axis\": {\"grid\": false}, \"field\": \"Monto\", \"type\": \"quantitative\"}, \"y\": {\"axis\": {\"labelLimit\": 7000}, \"field\": \"Detalle\", \"sort\": \"-x\", \"type\": \"ordinal\"}}, \"height\": 600, \"params\": [{\"name\": \"param_31\", \"select\": {\"type\": \"point\", \"fields\": [\"Periodo\"]}, \"bind\": \"legend\"}], \"transform\": [{\"filter\": {\"param\": \"param_31\"}}], \"width\": 800, \"$schema\": \"https://vega.github.io/schema/vega-lite/v5.20.1.json\", \"datasets\": {\"data-08331b99f1751fe490c6fcd36a061f86\": [{\"TipoOperacion\": \"Ingresos\", \"Comercial/Financiero\": \"Comerciales\", \"Detalle\": \"Comisi\\u00f3n por Servicio Anual (Renovaci\\u00f3n)\", \"Periodo\": 202404, \"Monto\": null}, {\"TipoOperacion\": \"Ingresos\", \"Comercial/Financiero\": \"Comerciales\", \"Detalle\": \"Comisi\\u00f3n por Servicio Anual (Renovaci\\u00f3n)\", \"Periodo\": 202405, \"Monto\": null}, {\"TipoOperacion\": \"Ingresos\", \"Comercial/Financiero\": \"Comerciales\", \"Detalle\": \"Comisi\\u00f3n por Servicio Anual (Renovaci\\u00f3n)\", \"Periodo\": 202406, \"Monto\": 164.485753}, {\"TipoOperacion\": \"Ingresos\", \"Comercial/Financiero\": \"Comerciales\", \"Detalle\": \"Comisi\\u00f3n por Servicio Anual (Renovaci\\u00f3n)\", \"Periodo\": 202407, \"Monto\": null}, {\"TipoOperacion\": \"Ingresos\", \"Comercial/Financiero\": \"Comerciales\", \"Detalle\": \"Comisi\\u00f3n por Servicio Anual (Renovaci\\u00f3n)\", \"Periodo\": 202408, \"Monto\": null}, {\"TipoOperacion\": \"Ingresos\", \"Comercial/Financiero\": \"Comerciales\", \"Detalle\": \"Comisi\\u00f3n por Servicio Anual (Renovaci\\u00f3n)\", \"Periodo\": 202409, \"Monto\": null}, {\"TipoOperacion\": \"Ingresos\", \"Comercial/Financiero\": \"Comerciales\", \"Detalle\": \"Arancel Otorgante\", \"Periodo\": 202404, \"Monto\": 3114.81116}, {\"TipoOperacion\": \"Ingresos\", \"Comercial/Financiero\": \"Comerciales\", \"Detalle\": \"Arancel Otorgante\", \"Periodo\": 202405, \"Monto\": 3517.717797}, {\"TipoOperacion\": \"Ingresos\", \"Comercial/Financiero\": \"Comerciales\", \"Detalle\": \"Arancel Otorgante\", \"Periodo\": 202406, \"Monto\": 2916.168947}, {\"TipoOperacion\": \"Ingresos\", \"Comercial/Financiero\": \"Comerciales\", \"Detalle\": \"Arancel Otorgante\", \"Periodo\": 202407, \"Monto\": 4726.904934}, {\"TipoOperacion\": \"Ingresos\", \"Comercial/Financiero\": \"Comerciales\", \"Detalle\": \"Arancel Otorgante\", \"Periodo\": 202408, \"Monto\": 4375.848105}, {\"TipoOperacion\": \"Ingresos\", \"Comercial/Financiero\": \"Comerciales\", \"Detalle\": \"Arancel Otorgante\", \"Periodo\": 202409, \"Monto\": 4678.148877}, {\"TipoOperacion\": \"Ingresos\", \"Comercial/Financiero\": \"Comerciales\", \"Detalle\": \"Comisi\\u00f3n por Administraci\\u00f3n de Cuenta\", \"Periodo\": 202404, \"Monto\": null}, {\"TipoOperacion\": \"Ingresos\", \"Comercial/Financiero\": \"Comerciales\", \"Detalle\": \"Comisi\\u00f3n por Administraci\\u00f3n de Cuenta\", \"Periodo\": 202405, \"Monto\": null}, {\"TipoOperacion\": \"Ingresos\", \"Comercial/Financiero\": \"Comerciales\", \"Detalle\": \"Comisi\\u00f3n por Administraci\\u00f3n de Cuenta\", \"Periodo\": 202406, \"Monto\": null}, {\"TipoOperacion\": \"Ingresos\", \"Comercial/Financiero\": \"Comerciales\", \"Detalle\": \"Comisi\\u00f3n por Administraci\\u00f3n de Cuenta\", \"Periodo\": 202407, \"Monto\": null}, {\"TipoOperacion\": \"Ingresos\", \"Comercial/Financiero\": \"Comerciales\", \"Detalle\": \"Comisi\\u00f3n por Administraci\\u00f3n de Cuenta\", \"Periodo\": 202408, \"Monto\": null}, {\"TipoOperacion\": \"Ingresos\", \"Comercial/Financiero\": \"Comerciales\", \"Detalle\": \"Comisi\\u00f3n por Administraci\\u00f3n de Cuenta\", \"Periodo\": 202409, \"Monto\": null}, {\"TipoOperacion\": \"Ingresos\", \"Comercial/Financiero\": \"Comerciales\", \"Detalle\": \"Ingreso Paquete\", \"Periodo\": 202404, \"Monto\": 2711.130883}, {\"TipoOperacion\": \"Ingresos\", \"Comercial/Financiero\": \"Comerciales\", \"Detalle\": \"Ingreso Paquete\", \"Periodo\": 202405, \"Monto\": 2699.7528}, {\"TipoOperacion\": \"Ingresos\", \"Comercial/Financiero\": \"Comerciales\", \"Detalle\": \"Ingreso Paquete\", \"Periodo\": 202406, \"Monto\": 3371.742207}, {\"TipoOperacion\": \"Ingresos\", \"Comercial/Financiero\": \"Comerciales\", \"Detalle\": \"Ingreso Paquete\", \"Periodo\": 202407, \"Monto\": 3418.533595}, {\"TipoOperacion\": \"Ingresos\", \"Comercial/Financiero\": \"Comerciales\", \"Detalle\": \"Ingreso Paquete\", \"Periodo\": 202408, \"Monto\": 3647.834392}, {\"TipoOperacion\": \"Ingresos\", \"Comercial/Financiero\": \"Comerciales\", \"Detalle\": \"Ingreso Paquete\", \"Periodo\": 202409, \"Monto\": 3602.025026}, {\"TipoOperacion\": \"Ingresos\", \"Comercial/Financiero\": \"Comerciales\", \"Detalle\": \"Cgo Servicios Varios\", \"Periodo\": 202404, \"Monto\": null}, {\"TipoOperacion\": \"Ingresos\", \"Comercial/Financiero\": \"Comerciales\", \"Detalle\": \"Cgo Servicios Varios\", \"Periodo\": 202405, \"Monto\": null}, {\"TipoOperacion\": \"Ingresos\", \"Comercial/Financiero\": \"Comerciales\", \"Detalle\": \"Cgo Servicios Varios\", \"Periodo\": 202406, \"Monto\": null}, {\"TipoOperacion\": \"Ingresos\", \"Comercial/Financiero\": \"Comerciales\", \"Detalle\": \"Cgo Servicios Varios\", \"Periodo\": 202407, \"Monto\": null}, {\"TipoOperacion\": \"Ingresos\", \"Comercial/Financiero\": \"Comerciales\", \"Detalle\": \"Cgo Servicios Varios\", \"Periodo\": 202408, \"Monto\": null}, {\"TipoOperacion\": \"Ingresos\", \"Comercial/Financiero\": \"Comerciales\", \"Detalle\": \"Cgo Servicios Varios\", \"Periodo\": 202409, \"Monto\": null}, {\"TipoOperacion\": \"Ingresos\", \"Comercial/Financiero\": \"Comerciales\", \"Detalle\": \"Plan Incentivos Mastercard\", \"Periodo\": 202404, \"Monto\": null}, {\"TipoOperacion\": \"Ingresos\", \"Comercial/Financiero\": \"Comerciales\", \"Detalle\": \"Plan Incentivos Mastercard\", \"Periodo\": 202405, \"Monto\": null}, {\"TipoOperacion\": \"Ingresos\", \"Comercial/Financiero\": \"Comerciales\", \"Detalle\": \"Plan Incentivos Mastercard\", \"Periodo\": 202406, \"Monto\": null}, {\"TipoOperacion\": \"Ingresos\", \"Comercial/Financiero\": \"Comerciales\", \"Detalle\": \"Plan Incentivos Mastercard\", \"Periodo\": 202407, \"Monto\": 1080.840893}, {\"TipoOperacion\": \"Ingresos\", \"Comercial/Financiero\": \"Comerciales\", \"Detalle\": \"Plan Incentivos Mastercard\", \"Periodo\": 202408, \"Monto\": 1080.840893}, {\"TipoOperacion\": \"Ingresos\", \"Comercial/Financiero\": \"Comerciales\", \"Detalle\": \"Plan Incentivos Mastercard\", \"Periodo\": 202409, \"Monto\": 4001.853434}, {\"TipoOperacion\": \"Ingresos\", \"Comercial/Financiero\": \"Comerciales\", \"Detalle\": \"Comisi\\u00f3n Transf Comercios con ctas en otros Bcos\", \"Periodo\": 202404, \"Monto\": 0.0}, {\"TipoOperacion\": \"Ingresos\", \"Comercial/Financiero\": \"Comerciales\", \"Detalle\": \"Comisi\\u00f3n Transf Comercios con ctas en otros Bcos\", \"Periodo\": 202405, \"Monto\": 0.0}, {\"TipoOperacion\": \"Ingresos\", \"Comercial/Financiero\": \"Comerciales\", \"Detalle\": \"Comisi\\u00f3n Transf Comercios con ctas en otros Bcos\", \"Periodo\": 202406, \"Monto\": 0.0}, {\"TipoOperacion\": \"Ingresos\", \"Comercial/Financiero\": \"Comerciales\", \"Detalle\": \"Comisi\\u00f3n Transf Comercios con ctas en otros Bcos\", \"Periodo\": 202407, \"Monto\": 0.0}, {\"TipoOperacion\": \"Ingresos\", \"Comercial/Financiero\": \"Comerciales\", \"Detalle\": \"Comisi\\u00f3n Transf Comercios con ctas en otros Bcos\", \"Periodo\": 202408, \"Monto\": 0.0}, {\"TipoOperacion\": \"Ingresos\", \"Comercial/Financiero\": \"Comerciales\", \"Detalle\": \"Comisi\\u00f3n Transf Comercios con ctas en otros Bcos\", \"Periodo\": 202409, \"Monto\": 0.0}, {\"TipoOperacion\": \"Ingresos\", \"Comercial/Financiero\": \"Financieros\", \"Detalle\": \"Intereses por Financiaci\\u00f3n\", \"Periodo\": 202404, \"Monto\": 8118.299854}, {\"TipoOperacion\": \"Ingresos\", \"Comercial/Financiero\": \"Financieros\", \"Detalle\": \"Intereses por Financiaci\\u00f3n\", \"Periodo\": 202405, \"Monto\": 6841.766718}, {\"TipoOperacion\": \"Ingresos\", \"Comercial/Financiero\": \"Financieros\", \"Detalle\": \"Intereses por Financiaci\\u00f3n\", \"Periodo\": 202406, \"Monto\": 5136.233315}, {\"TipoOperacion\": \"Ingresos\", \"Comercial/Financiero\": \"Financieros\", \"Detalle\": \"Intereses por Financiaci\\u00f3n\", \"Periodo\": 202407, \"Monto\": 4946.299833}, {\"TipoOperacion\": \"Ingresos\", \"Comercial/Financiero\": \"Financieros\", \"Detalle\": \"Intereses por Financiaci\\u00f3n\", \"Periodo\": 202408, \"Monto\": 4796.093806}, {\"TipoOperacion\": \"Ingresos\", \"Comercial/Financiero\": \"Financieros\", \"Detalle\": \"Intereses por Financiaci\\u00f3n\", \"Periodo\": 202409, \"Monto\": 5223.929264}, {\"TipoOperacion\": \"Ingresos\", \"Comercial/Financiero\": \"Financieros\", \"Detalle\": \"Intereses por Adelantos\", \"Periodo\": 202404, \"Monto\": 0.0}, {\"TipoOperacion\": \"Ingresos\", \"Comercial/Financiero\": \"Financieros\", \"Detalle\": \"Intereses por Adelantos\", \"Periodo\": 202405, \"Monto\": 0.0}, {\"TipoOperacion\": \"Ingresos\", \"Comercial/Financiero\": \"Financieros\", \"Detalle\": \"Intereses por Adelantos\", \"Periodo\": 202406, \"Monto\": 0.0}, {\"TipoOperacion\": \"Ingresos\", \"Comercial/Financiero\": \"Financieros\", \"Detalle\": \"Intereses por Adelantos\", \"Periodo\": 202407, \"Monto\": 0.0}, {\"TipoOperacion\": \"Ingresos\", \"Comercial/Financiero\": \"Financieros\", \"Detalle\": \"Intereses por Adelantos\", \"Periodo\": 202408, \"Monto\": 0.0}, {\"TipoOperacion\": \"Ingresos\", \"Comercial/Financiero\": \"Financieros\", \"Detalle\": \"Intereses por Adelantos\", \"Periodo\": 202409, \"Monto\": 0.0}, {\"TipoOperacion\": \"Ingresos\", \"Comercial/Financiero\": \"Financieros\", \"Detalle\": \"Interses Punitorios\", \"Periodo\": 202404, \"Monto\": null}, {\"TipoOperacion\": \"Ingresos\", \"Comercial/Financiero\": \"Financieros\", \"Detalle\": \"Interses Punitorios\", \"Periodo\": 202405, \"Monto\": null}, {\"TipoOperacion\": \"Ingresos\", \"Comercial/Financiero\": \"Financieros\", \"Detalle\": \"Interses Punitorios\", \"Periodo\": 202406, \"Monto\": null}, {\"TipoOperacion\": \"Ingresos\", \"Comercial/Financiero\": \"Financieros\", \"Detalle\": \"Interses Punitorios\", \"Periodo\": 202407, \"Monto\": 169.010376}, {\"TipoOperacion\": \"Ingresos\", \"Comercial/Financiero\": \"Financieros\", \"Detalle\": \"Interses Punitorios\", \"Periodo\": 202408, \"Monto\": null}, {\"TipoOperacion\": \"Ingresos\", \"Comercial/Financiero\": \"Financieros\", \"Detalle\": \"Interses Punitorios\", \"Periodo\": 202409, \"Monto\": null}, {\"TipoOperacion\": \"Ingresos\", \"Comercial/Financiero\": \"Financieros\", \"Detalle\": \"Dto. por Pago Adelantado a Comercios \", \"Periodo\": 202404, \"Monto\": 7154.896851}, {\"TipoOperacion\": \"Ingresos\", \"Comercial/Financiero\": \"Financieros\", \"Detalle\": \"Dto. por Pago Adelantado a Comercios \", \"Periodo\": 202405, \"Monto\": 7695.956127}, {\"TipoOperacion\": \"Ingresos\", \"Comercial/Financiero\": \"Financieros\", \"Detalle\": \"Dto. por Pago Adelantado a Comercios \", \"Periodo\": 202406, \"Monto\": 6130.433727}, {\"TipoOperacion\": \"Ingresos\", \"Comercial/Financiero\": \"Financieros\", \"Detalle\": \"Dto. por Pago Adelantado a Comercios \", \"Periodo\": 202407, \"Monto\": 9309.210369}, {\"TipoOperacion\": \"Ingresos\", \"Comercial/Financiero\": \"Financieros\", \"Detalle\": \"Dto. por Pago Adelantado a Comercios \", \"Periodo\": 202408, \"Monto\": 8657.757408}, {\"TipoOperacion\": \"Ingresos\", \"Comercial/Financiero\": \"Financieros\", \"Detalle\": \"Dto. por Pago Adelantado a Comercios \", \"Periodo\": 202409, \"Monto\": 9197.324818}, {\"TipoOperacion\": \"Ingresos\", \"Comercial/Financiero\": \"Financieros\", \"Detalle\": \"Dif. De Cotiaci\\u00f3n OME\", \"Periodo\": 202404, \"Monto\": null}, {\"TipoOperacion\": \"Ingresos\", \"Comercial/Financiero\": \"Financieros\", \"Detalle\": \"Dif. De Cotiaci\\u00f3n OME\", \"Periodo\": 202405, \"Monto\": null}, {\"TipoOperacion\": \"Ingresos\", \"Comercial/Financiero\": \"Financieros\", \"Detalle\": \"Dif. De Cotiaci\\u00f3n OME\", \"Periodo\": 202406, \"Monto\": 13.169426}, {\"TipoOperacion\": \"Ingresos\", \"Comercial/Financiero\": \"Financieros\", \"Detalle\": \"Dif. De Cotiaci\\u00f3n OME\", \"Periodo\": 202407, \"Monto\": null}, {\"TipoOperacion\": \"Ingresos\", \"Comercial/Financiero\": \"Financieros\", \"Detalle\": \"Dif. De Cotiaci\\u00f3n OME\", \"Periodo\": 202408, \"Monto\": null}, {\"TipoOperacion\": \"Ingresos\", \"Comercial/Financiero\": \"Financieros\", \"Detalle\": \"Dif. De Cotiaci\\u00f3n OME\", \"Periodo\": 202409, \"Monto\": null}, {\"TipoOperacion\": \"Egresos\", \"Comercial/Financiero\": \"Comerciales\", \"Detalle\": \"Fact. Serv. Emp. Adm.\", \"Periodo\": 202404, \"Monto\": 3043.470717}, {\"TipoOperacion\": \"Egresos\", \"Comercial/Financiero\": \"Comerciales\", \"Detalle\": \"Fact. Serv. Emp. Adm.\", \"Periodo\": 202405, \"Monto\": 6206.00467}, {\"TipoOperacion\": \"Egresos\", \"Comercial/Financiero\": \"Comerciales\", \"Detalle\": \"Fact. Serv. Emp. Adm.\", \"Periodo\": 202406, \"Monto\": 3406.261765}, {\"TipoOperacion\": \"Egresos\", \"Comercial/Financiero\": \"Comerciales\", \"Detalle\": \"Fact. Serv. Emp. Adm.\", \"Periodo\": 202407, \"Monto\": 3046.097307}, {\"TipoOperacion\": \"Egresos\", \"Comercial/Financiero\": \"Comerciales\", \"Detalle\": \"Fact. Serv. Emp. Adm.\", \"Periodo\": 202408, \"Monto\": 9482.384493}, {\"TipoOperacion\": \"Egresos\", \"Comercial/Financiero\": \"Comerciales\", \"Detalle\": \"Fact. Serv. Emp. Adm.\", \"Periodo\": 202409, \"Monto\": 3722.367765}, {\"TipoOperacion\": \"Egresos\", \"Comercial/Financiero\": \"Comerciales\", \"Detalle\": \"Comisiones Fza de Venta Naci\\u00f3n Servicios\", \"Periodo\": 202404, \"Monto\": 0.0}, {\"TipoOperacion\": \"Egresos\", \"Comercial/Financiero\": \"Comerciales\", \"Detalle\": \"Comisiones Fza de Venta Naci\\u00f3n Servicios\", \"Periodo\": 202405, \"Monto\": 0.0}, {\"TipoOperacion\": \"Egresos\", \"Comercial/Financiero\": \"Comerciales\", \"Detalle\": \"Comisiones Fza de Venta Naci\\u00f3n Servicios\", \"Periodo\": 202406, \"Monto\": 0.0}, {\"TipoOperacion\": \"Egresos\", \"Comercial/Financiero\": \"Comerciales\", \"Detalle\": \"Comisiones Fza de Venta Naci\\u00f3n Servicios\", \"Periodo\": 202407, \"Monto\": 0.0}, {\"TipoOperacion\": \"Egresos\", \"Comercial/Financiero\": \"Comerciales\", \"Detalle\": \"Comisiones Fza de Venta Naci\\u00f3n Servicios\", \"Periodo\": 202408, \"Monto\": 0.0}, {\"TipoOperacion\": \"Egresos\", \"Comercial/Financiero\": \"Comerciales\", \"Detalle\": \"Comisiones Fza de Venta Naci\\u00f3n Servicios\", \"Periodo\": 202409, \"Monto\": 0.0}, {\"TipoOperacion\": \"Egresos\", \"Comercial/Financiero\": \"Comerciales\", \"Detalle\": \"Costo Operativo\", \"Periodo\": 202404, \"Monto\": 1939.670745}, {\"TipoOperacion\": \"Egresos\", \"Comercial/Financiero\": \"Comerciales\", \"Detalle\": \"Costo Operativo\", \"Periodo\": 202405, \"Monto\": 2086.67709}, {\"TipoOperacion\": \"Egresos\", \"Comercial/Financiero\": \"Comerciales\", \"Detalle\": \"Costo Operativo\", \"Periodo\": 202406, \"Monto\": 2213.315641}, {\"TipoOperacion\": \"Egresos\", \"Comercial/Financiero\": \"Comerciales\", \"Detalle\": \"Costo Operativo\", \"Periodo\": 202407, \"Monto\": 2213.468058}, {\"TipoOperacion\": \"Egresos\", \"Comercial/Financiero\": \"Comerciales\", \"Detalle\": \"Costo Operativo\", \"Periodo\": 202408, \"Monto\": 2309.735118}, {\"TipoOperacion\": \"Egresos\", \"Comercial/Financiero\": \"Comerciales\", \"Detalle\": \"Costo Operativo\", \"Periodo\": 202409, \"Monto\": 2424.090455}, {\"TipoOperacion\": \"Egresos\", \"Comercial/Financiero\": \"Comerciales\", \"Detalle\": \"Unidad Medios de Pagos Zonales\", \"Periodo\": 202404, \"Monto\": null}, {\"TipoOperacion\": \"Egresos\", \"Comercial/Financiero\": \"Comerciales\", \"Detalle\": \"Unidad Medios de Pagos Zonales\", \"Periodo\": 202405, \"Monto\": null}, {\"TipoOperacion\": \"Egresos\", \"Comercial/Financiero\": \"Comerciales\", \"Detalle\": \"Unidad Medios de Pagos Zonales\", \"Periodo\": 202406, \"Monto\": null}, {\"TipoOperacion\": \"Egresos\", \"Comercial/Financiero\": \"Comerciales\", \"Detalle\": \"Unidad Medios de Pagos Zonales\", \"Periodo\": 202407, \"Monto\": null}, {\"TipoOperacion\": \"Egresos\", \"Comercial/Financiero\": \"Comerciales\", \"Detalle\": \"Unidad Medios de Pagos Zonales\", \"Periodo\": 202408, \"Monto\": null}, {\"TipoOperacion\": \"Egresos\", \"Comercial/Financiero\": \"Comerciales\", \"Detalle\": \"Unidad Medios de Pagos Zonales\", \"Periodo\": 202409, \"Monto\": null}, {\"TipoOperacion\": \"Egresos\", \"Comercial/Financiero\": \"Comerciales\", \"Detalle\": \"Gastos de Distribuci\\u00f3n\", \"Periodo\": 202404, \"Monto\": null}, {\"TipoOperacion\": \"Egresos\", \"Comercial/Financiero\": \"Comerciales\", \"Detalle\": \"Gastos de Distribuci\\u00f3n\", \"Periodo\": 202405, \"Monto\": null}, {\"TipoOperacion\": \"Egresos\", \"Comercial/Financiero\": \"Comerciales\", \"Detalle\": \"Gastos de Distribuci\\u00f3n\", \"Periodo\": 202406, \"Monto\": null}, {\"TipoOperacion\": \"Egresos\", \"Comercial/Financiero\": \"Comerciales\", \"Detalle\": \"Gastos de Distribuci\\u00f3n\", \"Periodo\": 202407, \"Monto\": null}, {\"TipoOperacion\": \"Egresos\", \"Comercial/Financiero\": \"Comerciales\", \"Detalle\": \"Gastos de Distribuci\\u00f3n\", \"Periodo\": 202408, \"Monto\": null}, {\"TipoOperacion\": \"Egresos\", \"Comercial/Financiero\": \"Comerciales\", \"Detalle\": \"Gastos de Distribuci\\u00f3n\", \"Periodo\": 202409, \"Monto\": null}, {\"TipoOperacion\": \"Egresos\", \"Comercial/Financiero\": \"Comerciales\", \"Detalle\": \"Merchandising\", \"Periodo\": 202404, \"Monto\": 0.0}, {\"TipoOperacion\": \"Egresos\", \"Comercial/Financiero\": \"Comerciales\", \"Detalle\": \"Merchandising\", \"Periodo\": 202405, \"Monto\": 0.0}, {\"TipoOperacion\": \"Egresos\", \"Comercial/Financiero\": \"Comerciales\", \"Detalle\": \"Merchandising\", \"Periodo\": 202406, \"Monto\": 0.0}, {\"TipoOperacion\": \"Egresos\", \"Comercial/Financiero\": \"Comerciales\", \"Detalle\": \"Merchandising\", \"Periodo\": 202407, \"Monto\": 0.0}, {\"TipoOperacion\": \"Egresos\", \"Comercial/Financiero\": \"Comerciales\", \"Detalle\": \"Merchandising\", \"Periodo\": 202408, \"Monto\": 0.0}, {\"TipoOperacion\": \"Egresos\", \"Comercial/Financiero\": \"Comerciales\", \"Detalle\": \"Merchandising\", \"Periodo\": 202409, \"Monto\": 0.0}, {\"TipoOperacion\": \"Egresos\", \"Comercial/Financiero\": \"Comerciales\", \"Detalle\": \"Programa de Fidelizacion\", \"Periodo\": 202404, \"Monto\": null}, {\"TipoOperacion\": \"Egresos\", \"Comercial/Financiero\": \"Comerciales\", \"Detalle\": \"Programa de Fidelizacion\", \"Periodo\": 202405, \"Monto\": null}, {\"TipoOperacion\": \"Egresos\", \"Comercial/Financiero\": \"Comerciales\", \"Detalle\": \"Programa de Fidelizacion\", \"Periodo\": 202406, \"Monto\": null}, {\"TipoOperacion\": \"Egresos\", \"Comercial/Financiero\": \"Comerciales\", \"Detalle\": \"Programa de Fidelizacion\", \"Periodo\": 202407, \"Monto\": null}, {\"TipoOperacion\": \"Egresos\", \"Comercial/Financiero\": \"Comerciales\", \"Detalle\": \"Programa de Fidelizacion\", \"Periodo\": 202408, \"Monto\": null}, {\"TipoOperacion\": \"Egresos\", \"Comercial/Financiero\": \"Comerciales\", \"Detalle\": \"Programa de Fidelizacion\", \"Periodo\": 202409, \"Monto\": null}, {\"TipoOperacion\": \"Egresos\", \"Comercial/Financiero\": \"Comerciales\", \"Detalle\": \"AAP\", \"Periodo\": 202404, \"Monto\": 1044.303186}, {\"TipoOperacion\": \"Egresos\", \"Comercial/Financiero\": \"Comerciales\", \"Detalle\": \"AAP\", \"Periodo\": 202405, \"Monto\": 1230.066792}, {\"TipoOperacion\": \"Egresos\", \"Comercial/Financiero\": \"Comerciales\", \"Detalle\": \"AAP\", \"Periodo\": 202406, \"Monto\": 1166.083936}, {\"TipoOperacion\": \"Egresos\", \"Comercial/Financiero\": \"Comerciales\", \"Detalle\": \"AAP\", \"Periodo\": 202407, \"Monto\": 1234.977353}, {\"TipoOperacion\": \"Egresos\", \"Comercial/Financiero\": \"Comerciales\", \"Detalle\": \"AAP\", \"Periodo\": 202408, \"Monto\": 1582.042251}, {\"TipoOperacion\": \"Egresos\", \"Comercial/Financiero\": \"Comerciales\", \"Detalle\": \"AAP\", \"Periodo\": 202409, \"Monto\": 1425.058242}, {\"TipoOperacion\": \"Egresos\", \"Comercial/Financiero\": \"Comerciales\", \"Detalle\": \"Promo\", \"Periodo\": 202404, \"Monto\": 3205.865846}, {\"TipoOperacion\": \"Egresos\", \"Comercial/Financiero\": \"Comerciales\", \"Detalle\": \"Promo\", \"Periodo\": 202405, \"Monto\": 1648.524232}, {\"TipoOperacion\": \"Egresos\", \"Comercial/Financiero\": \"Comerciales\", \"Detalle\": \"Promo\", \"Periodo\": 202406, \"Monto\": 1766.37153}, {\"TipoOperacion\": \"Egresos\", \"Comercial/Financiero\": \"Comerciales\", \"Detalle\": \"Promo\", \"Periodo\": 202407, \"Monto\": 1380.183079}, {\"TipoOperacion\": \"Egresos\", \"Comercial/Financiero\": \"Comerciales\", \"Detalle\": \"Promo\", \"Periodo\": 202408, \"Monto\": 1903.870776}, {\"TipoOperacion\": \"Egresos\", \"Comercial/Financiero\": \"Comerciales\", \"Detalle\": \"Promo\", \"Periodo\": 202409, \"Monto\": 3280.129337}, {\"TipoOperacion\": \"Egresos\", \"Comercial/Financiero\": \"Comerciales\", \"Detalle\": \"SD\", \"Periodo\": 202404, \"Monto\": 106.10277}, {\"TipoOperacion\": \"Egresos\", \"Comercial/Financiero\": \"Comerciales\", \"Detalle\": \"SD\", \"Periodo\": 202405, \"Monto\": 118.725086}, {\"TipoOperacion\": \"Egresos\", \"Comercial/Financiero\": \"Comerciales\", \"Detalle\": \"SD\", \"Periodo\": 202406, \"Monto\": null}, {\"TipoOperacion\": \"Egresos\", \"Comercial/Financiero\": \"Comerciales\", \"Detalle\": \"SD\", \"Periodo\": 202407, \"Monto\": 162.237459}, {\"TipoOperacion\": \"Egresos\", \"Comercial/Financiero\": \"Comerciales\", \"Detalle\": \"SD\", \"Periodo\": 202408, \"Monto\": 182.91362}, {\"TipoOperacion\": \"Egresos\", \"Comercial/Financiero\": \"Comerciales\", \"Detalle\": \"SD\", \"Periodo\": 202409, \"Monto\": null}, {\"TipoOperacion\": \"Egresos\", \"Comercial/Financiero\": \"Comerciales\", \"Detalle\": \"Fraude\", \"Periodo\": 202404, \"Monto\": null}, {\"TipoOperacion\": \"Egresos\", \"Comercial/Financiero\": \"Comerciales\", \"Detalle\": \"Fraude\", \"Periodo\": 202405, \"Monto\": null}, {\"TipoOperacion\": \"Egresos\", \"Comercial/Financiero\": \"Comerciales\", \"Detalle\": \"Fraude\", \"Periodo\": 202406, \"Monto\": null}, {\"TipoOperacion\": \"Egresos\", \"Comercial/Financiero\": \"Comerciales\", \"Detalle\": \"Fraude\", \"Periodo\": 202407, \"Monto\": null}, {\"TipoOperacion\": \"Egresos\", \"Comercial/Financiero\": \"Comerciales\", \"Detalle\": \"Fraude\", \"Periodo\": 202408, \"Monto\": null}, {\"TipoOperacion\": \"Egresos\", \"Comercial/Financiero\": \"Comerciales\", \"Detalle\": \"Fraude\", \"Periodo\": 202409, \"Monto\": null}, {\"TipoOperacion\": \"Egresos\", \"Comercial/Financiero\": \"Financieros\", \"Detalle\": \"Costo Financiero de compras (mes)\", \"Periodo\": 202404, \"Monto\": 6376.727947}, {\"TipoOperacion\": \"Egresos\", \"Comercial/Financiero\": \"Financieros\", \"Detalle\": \"Costo Financiero de compras (mes)\", \"Periodo\": 202405, \"Monto\": 5296.859133}, {\"TipoOperacion\": \"Egresos\", \"Comercial/Financiero\": \"Financieros\", \"Detalle\": \"Costo Financiero de compras (mes)\", \"Periodo\": 202406, \"Monto\": 4318.292518}, {\"TipoOperacion\": \"Egresos\", \"Comercial/Financiero\": \"Financieros\", \"Detalle\": \"Costo Financiero de compras (mes)\", \"Periodo\": 202407, \"Monto\": 4384.724615}, {\"TipoOperacion\": \"Egresos\", \"Comercial/Financiero\": \"Financieros\", \"Detalle\": \"Costo Financiero de compras (mes)\", \"Periodo\": 202408, \"Monto\": 4224.242884}, {\"TipoOperacion\": \"Egresos\", \"Comercial/Financiero\": \"Financieros\", \"Detalle\": \"Costo Financiero de compras (mes)\", \"Periodo\": 202409, \"Monto\": 4883.976442}, {\"TipoOperacion\": \"Egresos\", \"Comercial/Financiero\": \"Financieros\", \"Detalle\": \"Costo Financiero (sobre saldo financiado)\", \"Periodo\": 202404, \"Monto\": 2231.896722}, {\"TipoOperacion\": \"Egresos\", \"Comercial/Financiero\": \"Financieros\", \"Detalle\": \"Costo Financiero (sobre saldo financiado)\", \"Periodo\": 202405, \"Monto\": 1957.259458}, {\"TipoOperacion\": \"Egresos\", \"Comercial/Financiero\": \"Financieros\", \"Detalle\": \"Costo Financiero (sobre saldo financiado)\", \"Periodo\": 202406, \"Monto\": 1524.851581}, {\"TipoOperacion\": \"Egresos\", \"Comercial/Financiero\": \"Financieros\", \"Detalle\": \"Costo Financiero (sobre saldo financiado)\", \"Periodo\": 202407, \"Monto\": 1224.151464}, {\"TipoOperacion\": \"Egresos\", \"Comercial/Financiero\": \"Financieros\", \"Detalle\": \"Costo Financiero (sobre saldo financiado)\", \"Periodo\": 202408, \"Monto\": 1607.065321}, {\"TipoOperacion\": \"Egresos\", \"Comercial/Financiero\": \"Financieros\", \"Detalle\": \"Costo Financiero (sobre saldo financiado)\", \"Periodo\": 202409, \"Monto\": 1557.243704}, {\"TipoOperacion\": \"Egresos\", \"Comercial/Financiero\": \"Financieros\", \"Detalle\": \"Costo Financiero / cuotas pendientes\", \"Periodo\": 202404, \"Monto\": 5899.474078}, {\"TipoOperacion\": \"Egresos\", \"Comercial/Financiero\": \"Financieros\", \"Detalle\": \"Costo Financiero / cuotas pendientes\", \"Periodo\": 202405, \"Monto\": 5197.671289}, {\"TipoOperacion\": \"Egresos\", \"Comercial/Financiero\": \"Financieros\", \"Detalle\": \"Costo Financiero / cuotas pendientes\", \"Periodo\": 202406, \"Monto\": 4029.990114}, {\"TipoOperacion\": \"Egresos\", \"Comercial/Financiero\": \"Financieros\", \"Detalle\": \"Costo Financiero / cuotas pendientes\", \"Periodo\": 202407, \"Monto\": 5697.18158}, {\"TipoOperacion\": \"Egresos\", \"Comercial/Financiero\": \"Financieros\", \"Detalle\": \"Costo Financiero / cuotas pendientes\", \"Periodo\": 202408, \"Monto\": 6053.247161}, {\"TipoOperacion\": \"Egresos\", \"Comercial/Financiero\": \"Financieros\", \"Detalle\": \"Costo Financiero / cuotas pendientes\", \"Periodo\": 202409, \"Monto\": 6816.804418}, {\"TipoOperacion\": \"Egresos\", \"Comercial/Financiero\": \"Financieros\", \"Detalle\": \"Efecto reduccion de encajes Programa Ahora 12\", \"Periodo\": 202404, \"Monto\": null}, {\"TipoOperacion\": \"Egresos\", \"Comercial/Financiero\": \"Financieros\", \"Detalle\": \"Efecto reduccion de encajes Programa Ahora 12\", \"Periodo\": 202405, \"Monto\": null}, {\"TipoOperacion\": \"Egresos\", \"Comercial/Financiero\": \"Financieros\", \"Detalle\": \"Efecto reduccion de encajes Programa Ahora 12\", \"Periodo\": 202406, \"Monto\": null}, {\"TipoOperacion\": \"Egresos\", \"Comercial/Financiero\": \"Financieros\", \"Detalle\": \"Efecto reduccion de encajes Programa Ahora 12\", \"Periodo\": 202407, \"Monto\": null}, {\"TipoOperacion\": \"Egresos\", \"Comercial/Financiero\": \"Financieros\", \"Detalle\": \"Efecto reduccion de encajes Programa Ahora 12\", \"Periodo\": 202408, \"Monto\": null}, {\"TipoOperacion\": \"Egresos\", \"Comercial/Financiero\": \"Financieros\", \"Detalle\": \"Efecto reduccion de encajes Programa Ahora 12\", \"Periodo\": 202409, \"Monto\": null}]}}, {\"mode\": \"vega-lite\"});\n",
       "</script>"
      ],
      "text/plain": [
       "alt.Chart(...)"
      ]
     },
     "metadata": {},
     "output_type": "display_data"
    }
   ],
   "source": [
    "selector = alt.selection_point(fields=[\"Periodo\"], bind=\"legend\")  # Selección basada en la leyenda\n",
    "\n",
    "\n",
    "Grafico2 = alt.Chart(datos_en_miles).transform_filter(\n",
    "    selector  # Filtrar valores basados en la selección\n",
    "    ).mark_bar().encode(\n",
    "    x=alt.X(\"Monto:Q\", axis=alt.Axis(grid=False)),\n",
    "    y=alt.Y(\"Detalle:O\",sort=\"-x\", axis=alt.Axis(labelLimit=7000)),\n",
    "    color=alt.Color(\"Periodo:N\", legend=alt.Legend(title=\"Selecciona Periodo\")),\n",
    "    opacity=alt.condition(selector, alt.value(1), alt.value(0.2))  # Opacidad basada en la selección\n",
    "\n",
    "    ).add_params(\n",
    "        selector  # Agregar la selección al gráfico\n",
    "    ).properties(\n",
    "        width=800,\n",
    "        height=600\n",
    "    ).configure(\n",
    "        background=\"lightyellow\" \n",
    "    )\n",
    "\n",
    "Grafico2.show()"
   ]
  }
 ],
 "metadata": {
  "kernelspec": {
   "display_name": "Python 3",
   "language": "python",
   "name": "python3"
  },
  "language_info": {
   "codemirror_mode": {
    "name": "ipython",
    "version": 3
   },
   "file_extension": ".py",
   "mimetype": "text/x-python",
   "name": "python",
   "nbconvert_exporter": "python",
   "pygments_lexer": "ipython3",
   "version": "3.12.6"
  }
 },
 "nbformat": 4,
 "nbformat_minor": 2
}
